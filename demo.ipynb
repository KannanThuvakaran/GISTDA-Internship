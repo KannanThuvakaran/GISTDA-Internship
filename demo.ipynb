{
 "cells": [
  {
   "cell_type": "code",
   "execution_count": 5,
   "metadata": {},
   "outputs": [
    {
     "name": "stdout",
     "output_type": "stream",
     "text": [
      "Model summary: 238 layers, 93735472 parameters, 93735472 gradients\n",
      "\n",
      "image 1/1 c:\\Users\\Kanna\\GISTDA\\GISTDA-Internship\\testing_img\\img1.jpg: 1024x1024 1773.2ms\n",
      "Speed: 20.0ms preprocess, 1773.2ms inference, 2.6ms postprocess per image at shape (1, 3, 1024, 1024)\n",
      "\n",
      "image 1/1 c:\\Users\\Kanna\\GISTDA\\GISTDA-Internship\\testing_img\\img1.jpg: 1024x1024 1241.0ms\n",
      "Speed: 24.6ms preprocess, 1241.0ms inference, 0.0ms postprocess per image at shape (1, 3, 1024, 1024)\n"
     ]
    },
    {
     "data": {
      "text/plain": [
       "[ultralytics.engine.results.Results object with attributes:\n",
       " \n",
       " boxes: None\n",
       " keypoints: None\n",
       " masks: ultralytics.engine.results.Masks object\n",
       " names: {0: '0'}\n",
       " obb: None\n",
       " orig_img: array([[[255, 255, 255],\n",
       "         [255, 255, 255],\n",
       "         [226, 226, 226],\n",
       "         ...,\n",
       "         [ 98, 100, 108],\n",
       "         [ 86,  83,  92],\n",
       "         [ 72,  69,  78]],\n",
       " \n",
       "        [[255, 255, 255],\n",
       "         [255, 255, 255],\n",
       "         [224, 224, 224],\n",
       "         ...,\n",
       "         [116, 118, 126],\n",
       "         [103, 102, 111],\n",
       "         [ 93,  92, 101]],\n",
       " \n",
       "        [[255, 255, 255],\n",
       "         [254, 254, 254],\n",
       "         [224, 224, 224],\n",
       "         ...,\n",
       "         [110, 111, 121],\n",
       "         [121, 123, 131],\n",
       "         [112, 114, 122]],\n",
       " \n",
       "        ...,\n",
       " \n",
       "        [[255, 255, 254],\n",
       "         [248, 255, 255],\n",
       "         [104, 122, 133],\n",
       "         ...,\n",
       "         [ 68,  72,  67],\n",
       "         [ 69,  70,  66],\n",
       "         [ 64,  66,  60]],\n",
       " \n",
       "        [[252, 254, 254],\n",
       "         [248, 255, 255],\n",
       "         [102, 120, 131],\n",
       "         ...,\n",
       "         [ 65,  67,  61],\n",
       "         [ 67,  68,  59],\n",
       "         [ 64,  65,  56]],\n",
       " \n",
       "        [[252, 254, 254],\n",
       "         [245, 254, 255],\n",
       "         [103, 121, 132],\n",
       "         ...,\n",
       "         [ 64,  67,  58],\n",
       "         [ 66,  64,  56],\n",
       "         [ 64,  63,  53]]], dtype=uint8)\n",
       " orig_shape: (654, 922)\n",
       " path: 'c:\\\\Users\\\\Kanna\\\\GISTDA\\\\GISTDA-Internship\\\\testing_img\\\\img1.jpg'\n",
       " probs: None\n",
       " save_dir: 'runs\\\\segment\\\\predict4'\n",
       " speed: {'preprocess': 24.564743041992188, 'inference': 1241.020917892456, 'postprocess': 0.0}]"
      ]
     },
     "execution_count": 5,
     "metadata": {},
     "output_type": "execute_result"
    }
   ],
   "source": [
    "from ultralytics import SAM\n",
    "\n",
    "# Load a model\n",
    "model = SAM(\"sam_b.pt\")\n",
    "\n",
    "# Display model information (optional)\n",
    "model.info()\n",
    "\n",
    "# Run inference with bboxes prompt\n",
    "model(\"testing_img/img1.jpg\", bboxes=[439, 437, 524, 709])\n",
    "\n",
    "# Run inference with points prompt\n",
    "model(\"testing_img/img1.jpg\", points=[900, 370], labels=[1])"
   ]
  },
  {
   "cell_type": "code",
   "execution_count": 9,
   "metadata": {},
   "outputs": [],
   "source": [
    "from ultralytics import SAM\n",
    "import matplotlib.pyplot as plt\n",
    "\n",
    "# Load a model\n",
    "model = SAM(\"sam_b.pt\")\n",
    "\n",
    "# Make predictions\n",
    "results = model.predict(\"testing_img/img2.jpg\", True)\n",
    "\n"
   ]
  },
  {
   "cell_type": "code",
   "execution_count": 10,
   "metadata": {},
   "outputs": [
    {
     "name": "stdout",
     "output_type": "stream",
     "text": [
      "\n",
      "image 1/1 c:\\Users\\Kanna\\GISTDA\\GISTDA-Internship\\testing_img\\img2.jpg: 416x640 1 cat, 187.8ms\n",
      "Speed: 8.4ms preprocess, 187.8ms inference, 5.0ms postprocess per image at shape (1, 3, 416, 640)\n"
     ]
    }
   ],
   "source": [
    "from ultralytics.data.annotator import auto_annotate\n",
    "\n",
    "auto_annotate(data=\"testing_img/img2.jpg\", det_model=\"yolov8x.pt\", sam_model=\"sam_b.pt\")"
   ]
  },
  {
   "cell_type": "code",
   "execution_count": 13,
   "metadata": {},
   "outputs": [
    {
     "name": "stdout",
     "output_type": "stream",
     "text": [
      "\n",
      "Ultralytics YOLOv8.2.28  Python-3.12.3 torch-2.3.1+cu121 CUDA:0 (NVIDIA GeForce RTX 3060 Laptop GPU, 6144MiB)\n"
     ]
    }
   ],
   "source": [
    "from ultralytics.models.sam import Predictor as SAMPredictor\n",
    "\n",
    "# Create SAMPredictor\n",
    "overrides = dict(conf=0.25, task=\"segment\", mode=\"predict\", imgsz=1024, model=\"sam_b.pt\")\n",
    "predictor = SAMPredictor(overrides=overrides)\n",
    "\n",
    "# Segment with additional args\n",
    "results = predictor(source=\"testing_img/img2.jpg\", crop_n_layers=1, points_stride=64)"
   ]
  },
  {
   "cell_type": "code",
   "execution_count": 3,
   "metadata": {},
   "outputs": [
    {
     "name": "stdout",
     "output_type": "stream",
     "text": [
      "nvcc: NVIDIA (R) Cuda compiler driver\n",
      "Copyright (c) 2005-2023 NVIDIA Corporation\n",
      "Built on Wed_Feb__8_05:53:42_Coordinated_Universal_Time_2023\n",
      "Cuda compilation tools, release 12.1, V12.1.66\n",
      "Build cuda_12.1.r12.1/compiler.32415258_0\n",
      "Tue Jun 11 16:19:52 2024       \n",
      "+---------------------------------------------------------------------------------------+\n",
      "| NVIDIA-SMI 546.29                 Driver Version: 546.29       CUDA Version: 12.3     |\n",
      "|-----------------------------------------+----------------------+----------------------+\n",
      "| GPU  Name                     TCC/WDDM  | Bus-Id        Disp.A | Volatile Uncorr. ECC |\n",
      "| Fan  Temp   Perf          Pwr:Usage/Cap |         Memory-Usage | GPU-Util  Compute M. |\n",
      "|                                         |                      |               MIG M. |\n",
      "|=========================================+======================+======================|\n",
      "|   0  NVIDIA GeForce RTX 3060 ...  WDDM  | 00000000:01:00.0 Off |                  N/A |\n",
      "| N/A   54C    P0              25W /  96W |      7MiB /  6144MiB |      0%      Default |\n",
      "|                                         |                      |                  N/A |\n",
      "+-----------------------------------------+----------------------+----------------------+\n",
      "                                                                                         \n",
      "+---------------------------------------------------------------------------------------+\n",
      "| Processes:                                                                            |\n",
      "|  GPU   GI   CI        PID   Type   Process name                            GPU Memory |\n",
      "|        ID   ID                                                             Usage      |\n",
      "|=======================================================================================|\n",
      "|    0   N/A  N/A     21600    C+G   ...GeForce Experience\\NVIDIA Share.exe    N/A      |\n",
      "+---------------------------------------------------------------------------------------+\n"
     ]
    }
   ],
   "source": [
    "! nvcc --version\n",
    "! nvidia-smi"
   ]
  },
  {
   "cell_type": "markdown",
   "metadata": {},
   "source": []
  }
 ],
 "metadata": {
  "kernelspec": {
   "display_name": "gistda_internship",
   "language": "python",
   "name": "python3"
  },
  "language_info": {
   "codemirror_mode": {
    "name": "ipython",
    "version": 3
   },
   "file_extension": ".py",
   "mimetype": "text/x-python",
   "name": "python",
   "nbconvert_exporter": "python",
   "pygments_lexer": "ipython3",
   "version": "3.12.3"
  }
 },
 "nbformat": 4,
 "nbformat_minor": 2
}
